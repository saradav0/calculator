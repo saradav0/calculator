{
 "cells": [
  {
   "cell_type": "markdown",
   "id": "dca1c2c0",
   "metadata": {},
   "source": [
    "calculator"
   ]
  },
  {
   "cell_type": "code",
   "execution_count": 1,
   "id": "47da8baf",
   "metadata": {},
   "outputs": [
    {
     "name": "stdout",
     "output_type": "stream",
     "text": [
      "Введите первое число: 23\n",
      "Введите оператор (+, -, *, /): -\n",
      "Введите второе число: 34\n",
      "Результат: -11.0\n"
     ]
    }
   ],
   "source": [
    "def add(x, y):\n",
    "    \"\"\"Сложение\"\"\"\n",
    "    return x + y\n",
    "\n",
    "def subtract(x, y):\n",
    "    \"\"\"Вычитание\"\"\"\n",
    "    return x - y\n",
    "\n",
    "def multiply(x, y):\n",
    "    \"\"\"Умножение\"\"\"\n",
    "    return x * y\n",
    "\n",
    "def divide(x, y):\n",
    "    \"\"\"Деление\"\"\"\n",
    "    if y != 0:\n",
    "        return x / y\n",
    "    else:\n",
    "        return \"Ошибка: деление на ноль\"\n",
    "\n",
    "# Пример использования:\n",
    "num1 = float(input(\"Введите первое число: \"))\n",
    "operator = input(\"Введите оператор (+, -, *, /): \")\n",
    "num2 = float(input(\"Введите второе число: \"))\n",
    "\n",
    "if operator == \"+\":\n",
    "    result = add(num1, num2)\n",
    "elif operator == \"-\":\n",
    "    result = subtract(num1, num2)\n",
    "elif operator == \"*\":\n",
    "    result = multiply(num1, num2)\n",
    "elif operator == \"/\":\n",
    "    result = divide(num1, num2)\n",
    "else:\n",
    "    result = \"Ошибка: неверный оператор\"\n",
    "\n",
    "print(f\"Результат: {result}\")\n"
   ]
  },
  {
   "cell_type": "code",
   "execution_count": null,
   "id": "a88ed2ca",
   "metadata": {},
   "outputs": [],
   "source": []
  }
 ],
 "metadata": {
  "kernelspec": {
   "display_name": "Python 3 (ipykernel)",
   "language": "python",
   "name": "python3"
  },
  "language_info": {
   "codemirror_mode": {
    "name": "ipython",
    "version": 3
   },
   "file_extension": ".py",
   "mimetype": "text/x-python",
   "name": "python",
   "nbconvert_exporter": "python",
   "pygments_lexer": "ipython3",
   "version": "3.11.5"
  }
 },
 "nbformat": 4,
 "nbformat_minor": 5
}
